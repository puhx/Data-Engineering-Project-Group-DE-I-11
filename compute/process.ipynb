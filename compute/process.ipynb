{
 "cells": [
  {
   "cell_type": "markdown",
   "metadata": {},
   "source": [
    "### imports"
   ]
  },
  {
   "cell_type": "code",
   "execution_count": 2,
   "metadata": {},
   "outputs": [],
   "source": [
    "import h5py\n",
    "import matplotlib.pyplot as plt\n",
    "import pandas as pd\n",
    "import helper_functions as hf"
   ]
  },
  {
   "cell_type": "markdown",
   "metadata": {},
   "source": [
    "### importing and processing the data"
   ]
  },
  {
   "cell_type": "code",
   "execution_count": 3,
   "metadata": {},
   "outputs": [
    {
     "name": "stdout",
     "output_type": "stream",
     "text": [
      "size of the dataframe before pruning: (10000, 4)\n"
     ]
    }
   ],
   "source": [
    "#creating a dataframe from the data\n",
    "df = pd.read_hdf('../data/aggregated_song_features.h5', key='data')\n",
    "\n",
    "print('size of the dataframe before pruning:', df.shape)"
   ]
  },
  {
   "cell_type": "markdown",
   "metadata": {},
   "source": [
    "#### Danceability by decade"
   ]
  },
  {
   "cell_type": "code",
   "execution_count": 4,
   "metadata": {},
   "outputs": [
    {
     "name": "stdout",
     "output_type": "stream",
     "text": [
      "size of the dataframe with years: (4667, 2)\n",
      "      danceability  decade\n",
      "1              0.9    1960\n",
      "3              0.9    1980\n",
      "4              0.9    2000\n",
      "8              0.4    1980\n",
      "14             1.0    1980\n",
      "...            ...     ...\n",
      "9991           0.6    1990\n",
      "9994           0.6    1980\n",
      "9995           0.7    1990\n",
      "9996           0.3    1990\n",
      "9999           0.5    2000\n",
      "\n",
      "[4667 rows x 2 columns]\n",
      "        mean  count\n",
      "decade             \n",
      "1920    0.63      6\n",
      "1930    0.48      6\n",
      "1940    0.52      4\n",
      "1950    0.58     30\n",
      "1960    0.65    137\n",
      "1970    0.60    246\n",
      "1980    0.64    437\n",
      "1990    0.62   1201\n",
      "2000    0.63   2536\n",
      "2010    0.66     64\n"
     ]
    },
    {
     "ename": "IsADirectoryError",
     "evalue": "[Errno 21] Is a directory: '../data/mean_danceability_by_decade.csv'",
     "output_type": "error",
     "traceback": [
      "\u001b[0;31m---------------------------------------------------------------------------\u001b[0m",
      "\u001b[0;31mIsADirectoryError\u001b[0m                         Traceback (most recent call last)",
      "Cell \u001b[0;32mIn[4], line 10\u001b[0m\n\u001b[1;32m      7\u001b[0m grouped_decade \u001b[38;5;241m=\u001b[39m new_df_year\u001b[38;5;241m.\u001b[39mgroupby(\u001b[38;5;124m'\u001b[39m\u001b[38;5;124mdecade\u001b[39m\u001b[38;5;124m'\u001b[39m)[\u001b[38;5;124m'\u001b[39m\u001b[38;5;124mdanceability\u001b[39m\u001b[38;5;124m'\u001b[39m]\u001b[38;5;241m.\u001b[39magg([\u001b[38;5;124m'\u001b[39m\u001b[38;5;124mmean\u001b[39m\u001b[38;5;124m'\u001b[39m, \u001b[38;5;124m'\u001b[39m\u001b[38;5;124mcount\u001b[39m\u001b[38;5;124m'\u001b[39m])\u001b[38;5;241m.\u001b[39mround(\u001b[38;5;241m2\u001b[39m)\n\u001b[1;32m      8\u001b[0m \u001b[38;5;28mprint\u001b[39m(grouped_decade)\n\u001b[0;32m---> 10\u001b[0m \u001b[43mgrouped_decade\u001b[49m\u001b[38;5;241;43m.\u001b[39;49m\u001b[43mto_csv\u001b[49m\u001b[43m(\u001b[49m\u001b[38;5;124;43m'\u001b[39;49m\u001b[38;5;124;43m../data/mean_danceability_by_decade.csv\u001b[39;49m\u001b[38;5;124;43m'\u001b[39;49m\u001b[43m)\u001b[49m\n\u001b[1;32m     12\u001b[0m \u001b[38;5;66;03m#plotting this data\u001b[39;00m\n\u001b[1;32m     13\u001b[0m grouped_decade[\u001b[38;5;124m'\u001b[39m\u001b[38;5;124mmean\u001b[39m\u001b[38;5;124m'\u001b[39m]\u001b[38;5;241m.\u001b[39mplot(kind\u001b[38;5;241m=\u001b[39m\u001b[38;5;124m'\u001b[39m\u001b[38;5;124mbar\u001b[39m\u001b[38;5;124m'\u001b[39m, color\u001b[38;5;241m=\u001b[39m\u001b[38;5;124m'\u001b[39m\u001b[38;5;124m#ffdfba\u001b[39m\u001b[38;5;124m'\u001b[39m)\n",
      "File \u001b[0;32m~/.local/lib/python3.8/site-packages/pandas/core/generic.py:3772\u001b[0m, in \u001b[0;36mNDFrame.to_csv\u001b[0;34m(self, path_or_buf, sep, na_rep, float_format, columns, header, index, index_label, mode, encoding, compression, quoting, quotechar, lineterminator, chunksize, date_format, doublequote, escapechar, decimal, errors, storage_options)\u001b[0m\n\u001b[1;32m   3761\u001b[0m df \u001b[38;5;241m=\u001b[39m \u001b[38;5;28mself\u001b[39m \u001b[38;5;28;01mif\u001b[39;00m \u001b[38;5;28misinstance\u001b[39m(\u001b[38;5;28mself\u001b[39m, ABCDataFrame) \u001b[38;5;28;01melse\u001b[39;00m \u001b[38;5;28mself\u001b[39m\u001b[38;5;241m.\u001b[39mto_frame()\n\u001b[1;32m   3763\u001b[0m formatter \u001b[38;5;241m=\u001b[39m DataFrameFormatter(\n\u001b[1;32m   3764\u001b[0m     frame\u001b[38;5;241m=\u001b[39mdf,\n\u001b[1;32m   3765\u001b[0m     header\u001b[38;5;241m=\u001b[39mheader,\n\u001b[0;32m   (...)\u001b[0m\n\u001b[1;32m   3769\u001b[0m     decimal\u001b[38;5;241m=\u001b[39mdecimal,\n\u001b[1;32m   3770\u001b[0m )\n\u001b[0;32m-> 3772\u001b[0m \u001b[38;5;28;01mreturn\u001b[39;00m \u001b[43mDataFrameRenderer\u001b[49m\u001b[43m(\u001b[49m\u001b[43mformatter\u001b[49m\u001b[43m)\u001b[49m\u001b[38;5;241;43m.\u001b[39;49m\u001b[43mto_csv\u001b[49m\u001b[43m(\u001b[49m\n\u001b[1;32m   3773\u001b[0m \u001b[43m    \u001b[49m\u001b[43mpath_or_buf\u001b[49m\u001b[43m,\u001b[49m\n\u001b[1;32m   3774\u001b[0m \u001b[43m    \u001b[49m\u001b[43mlineterminator\u001b[49m\u001b[38;5;241;43m=\u001b[39;49m\u001b[43mlineterminator\u001b[49m\u001b[43m,\u001b[49m\n\u001b[1;32m   3775\u001b[0m \u001b[43m    \u001b[49m\u001b[43msep\u001b[49m\u001b[38;5;241;43m=\u001b[39;49m\u001b[43msep\u001b[49m\u001b[43m,\u001b[49m\n\u001b[1;32m   3776\u001b[0m \u001b[43m    \u001b[49m\u001b[43mencoding\u001b[49m\u001b[38;5;241;43m=\u001b[39;49m\u001b[43mencoding\u001b[49m\u001b[43m,\u001b[49m\n\u001b[1;32m   3777\u001b[0m \u001b[43m    \u001b[49m\u001b[43merrors\u001b[49m\u001b[38;5;241;43m=\u001b[39;49m\u001b[43merrors\u001b[49m\u001b[43m,\u001b[49m\n\u001b[1;32m   3778\u001b[0m \u001b[43m    \u001b[49m\u001b[43mcompression\u001b[49m\u001b[38;5;241;43m=\u001b[39;49m\u001b[43mcompression\u001b[49m\u001b[43m,\u001b[49m\n\u001b[1;32m   3779\u001b[0m \u001b[43m    \u001b[49m\u001b[43mquoting\u001b[49m\u001b[38;5;241;43m=\u001b[39;49m\u001b[43mquoting\u001b[49m\u001b[43m,\u001b[49m\n\u001b[1;32m   3780\u001b[0m \u001b[43m    \u001b[49m\u001b[43mcolumns\u001b[49m\u001b[38;5;241;43m=\u001b[39;49m\u001b[43mcolumns\u001b[49m\u001b[43m,\u001b[49m\n\u001b[1;32m   3781\u001b[0m \u001b[43m    \u001b[49m\u001b[43mindex_label\u001b[49m\u001b[38;5;241;43m=\u001b[39;49m\u001b[43mindex_label\u001b[49m\u001b[43m,\u001b[49m\n\u001b[1;32m   3782\u001b[0m \u001b[43m    \u001b[49m\u001b[43mmode\u001b[49m\u001b[38;5;241;43m=\u001b[39;49m\u001b[43mmode\u001b[49m\u001b[43m,\u001b[49m\n\u001b[1;32m   3783\u001b[0m \u001b[43m    \u001b[49m\u001b[43mchunksize\u001b[49m\u001b[38;5;241;43m=\u001b[39;49m\u001b[43mchunksize\u001b[49m\u001b[43m,\u001b[49m\n\u001b[1;32m   3784\u001b[0m \u001b[43m    \u001b[49m\u001b[43mquotechar\u001b[49m\u001b[38;5;241;43m=\u001b[39;49m\u001b[43mquotechar\u001b[49m\u001b[43m,\u001b[49m\n\u001b[1;32m   3785\u001b[0m \u001b[43m    \u001b[49m\u001b[43mdate_format\u001b[49m\u001b[38;5;241;43m=\u001b[39;49m\u001b[43mdate_format\u001b[49m\u001b[43m,\u001b[49m\n\u001b[1;32m   3786\u001b[0m \u001b[43m    \u001b[49m\u001b[43mdoublequote\u001b[49m\u001b[38;5;241;43m=\u001b[39;49m\u001b[43mdoublequote\u001b[49m\u001b[43m,\u001b[49m\n\u001b[1;32m   3787\u001b[0m \u001b[43m    \u001b[49m\u001b[43mescapechar\u001b[49m\u001b[38;5;241;43m=\u001b[39;49m\u001b[43mescapechar\u001b[49m\u001b[43m,\u001b[49m\n\u001b[1;32m   3788\u001b[0m \u001b[43m    \u001b[49m\u001b[43mstorage_options\u001b[49m\u001b[38;5;241;43m=\u001b[39;49m\u001b[43mstorage_options\u001b[49m\u001b[43m,\u001b[49m\n\u001b[1;32m   3789\u001b[0m \u001b[43m\u001b[49m\u001b[43m)\u001b[49m\n",
      "File \u001b[0;32m~/.local/lib/python3.8/site-packages/pandas/io/formats/format.py:1186\u001b[0m, in \u001b[0;36mDataFrameRenderer.to_csv\u001b[0;34m(self, path_or_buf, encoding, sep, columns, index_label, mode, compression, quoting, quotechar, lineterminator, chunksize, date_format, doublequote, escapechar, errors, storage_options)\u001b[0m\n\u001b[1;32m   1165\u001b[0m     created_buffer \u001b[38;5;241m=\u001b[39m \u001b[38;5;28;01mFalse\u001b[39;00m\n\u001b[1;32m   1167\u001b[0m csv_formatter \u001b[38;5;241m=\u001b[39m CSVFormatter(\n\u001b[1;32m   1168\u001b[0m     path_or_buf\u001b[38;5;241m=\u001b[39mpath_or_buf,\n\u001b[1;32m   1169\u001b[0m     lineterminator\u001b[38;5;241m=\u001b[39mlineterminator,\n\u001b[0;32m   (...)\u001b[0m\n\u001b[1;32m   1184\u001b[0m     formatter\u001b[38;5;241m=\u001b[39m\u001b[38;5;28mself\u001b[39m\u001b[38;5;241m.\u001b[39mfmt,\n\u001b[1;32m   1185\u001b[0m )\n\u001b[0;32m-> 1186\u001b[0m \u001b[43mcsv_formatter\u001b[49m\u001b[38;5;241;43m.\u001b[39;49m\u001b[43msave\u001b[49m\u001b[43m(\u001b[49m\u001b[43m)\u001b[49m\n\u001b[1;32m   1188\u001b[0m \u001b[38;5;28;01mif\u001b[39;00m created_buffer:\n\u001b[1;32m   1189\u001b[0m     \u001b[38;5;28;01massert\u001b[39;00m \u001b[38;5;28misinstance\u001b[39m(path_or_buf, StringIO)\n",
      "File \u001b[0;32m~/.local/lib/python3.8/site-packages/pandas/io/formats/csvs.py:240\u001b[0m, in \u001b[0;36mCSVFormatter.save\u001b[0;34m(self)\u001b[0m\n\u001b[1;32m    236\u001b[0m \u001b[38;5;250m\u001b[39m\u001b[38;5;124;03m\"\"\"\u001b[39;00m\n\u001b[1;32m    237\u001b[0m \u001b[38;5;124;03mCreate the writer & save.\u001b[39;00m\n\u001b[1;32m    238\u001b[0m \u001b[38;5;124;03m\"\"\"\u001b[39;00m\n\u001b[1;32m    239\u001b[0m \u001b[38;5;66;03m# apply compression and byte/text conversion\u001b[39;00m\n\u001b[0;32m--> 240\u001b[0m \u001b[38;5;28;01mwith\u001b[39;00m \u001b[43mget_handle\u001b[49m\u001b[43m(\u001b[49m\n\u001b[1;32m    241\u001b[0m \u001b[43m    \u001b[49m\u001b[38;5;28;43mself\u001b[39;49m\u001b[38;5;241;43m.\u001b[39;49m\u001b[43mfilepath_or_buffer\u001b[49m\u001b[43m,\u001b[49m\n\u001b[1;32m    242\u001b[0m \u001b[43m    \u001b[49m\u001b[38;5;28;43mself\u001b[39;49m\u001b[38;5;241;43m.\u001b[39;49m\u001b[43mmode\u001b[49m\u001b[43m,\u001b[49m\n\u001b[1;32m    243\u001b[0m \u001b[43m    \u001b[49m\u001b[43mencoding\u001b[49m\u001b[38;5;241;43m=\u001b[39;49m\u001b[38;5;28;43mself\u001b[39;49m\u001b[38;5;241;43m.\u001b[39;49m\u001b[43mencoding\u001b[49m\u001b[43m,\u001b[49m\n\u001b[1;32m    244\u001b[0m \u001b[43m    \u001b[49m\u001b[43merrors\u001b[49m\u001b[38;5;241;43m=\u001b[39;49m\u001b[38;5;28;43mself\u001b[39;49m\u001b[38;5;241;43m.\u001b[39;49m\u001b[43merrors\u001b[49m\u001b[43m,\u001b[49m\n\u001b[1;32m    245\u001b[0m \u001b[43m    \u001b[49m\u001b[43mcompression\u001b[49m\u001b[38;5;241;43m=\u001b[39;49m\u001b[38;5;28;43mself\u001b[39;49m\u001b[38;5;241;43m.\u001b[39;49m\u001b[43mcompression\u001b[49m\u001b[43m,\u001b[49m\n\u001b[1;32m    246\u001b[0m \u001b[43m    \u001b[49m\u001b[43mstorage_options\u001b[49m\u001b[38;5;241;43m=\u001b[39;49m\u001b[38;5;28;43mself\u001b[39;49m\u001b[38;5;241;43m.\u001b[39;49m\u001b[43mstorage_options\u001b[49m\u001b[43m,\u001b[49m\n\u001b[1;32m    247\u001b[0m \u001b[43m\u001b[49m\u001b[43m)\u001b[49m \u001b[38;5;28;01mas\u001b[39;00m handles:\n\u001b[1;32m    248\u001b[0m     \u001b[38;5;66;03m# Note: self.encoding is irrelevant here\u001b[39;00m\n\u001b[1;32m    249\u001b[0m     \u001b[38;5;28mself\u001b[39m\u001b[38;5;241m.\u001b[39mwriter \u001b[38;5;241m=\u001b[39m csvlib\u001b[38;5;241m.\u001b[39mwriter(\n\u001b[1;32m    250\u001b[0m         handles\u001b[38;5;241m.\u001b[39mhandle,\n\u001b[1;32m    251\u001b[0m         lineterminator\u001b[38;5;241m=\u001b[39m\u001b[38;5;28mself\u001b[39m\u001b[38;5;241m.\u001b[39mlineterminator,\n\u001b[0;32m   (...)\u001b[0m\n\u001b[1;32m    256\u001b[0m         quotechar\u001b[38;5;241m=\u001b[39m\u001b[38;5;28mself\u001b[39m\u001b[38;5;241m.\u001b[39mquotechar,\n\u001b[1;32m    257\u001b[0m     )\n\u001b[1;32m    259\u001b[0m     \u001b[38;5;28mself\u001b[39m\u001b[38;5;241m.\u001b[39m_save()\n",
      "File \u001b[0;32m~/.local/lib/python3.8/site-packages/pandas/io/common.py:859\u001b[0m, in \u001b[0;36mget_handle\u001b[0;34m(path_or_buf, mode, encoding, compression, memory_map, is_text, errors, storage_options)\u001b[0m\n\u001b[1;32m    854\u001b[0m \u001b[38;5;28;01melif\u001b[39;00m \u001b[38;5;28misinstance\u001b[39m(handle, \u001b[38;5;28mstr\u001b[39m):\n\u001b[1;32m    855\u001b[0m     \u001b[38;5;66;03m# Check whether the filename is to be opened in binary mode.\u001b[39;00m\n\u001b[1;32m    856\u001b[0m     \u001b[38;5;66;03m# Binary mode does not support 'encoding' and 'newline'.\u001b[39;00m\n\u001b[1;32m    857\u001b[0m     \u001b[38;5;28;01mif\u001b[39;00m ioargs\u001b[38;5;241m.\u001b[39mencoding \u001b[38;5;129;01mand\u001b[39;00m \u001b[38;5;124m\"\u001b[39m\u001b[38;5;124mb\u001b[39m\u001b[38;5;124m\"\u001b[39m \u001b[38;5;129;01mnot\u001b[39;00m \u001b[38;5;129;01min\u001b[39;00m ioargs\u001b[38;5;241m.\u001b[39mmode:\n\u001b[1;32m    858\u001b[0m         \u001b[38;5;66;03m# Encoding\u001b[39;00m\n\u001b[0;32m--> 859\u001b[0m         handle \u001b[38;5;241m=\u001b[39m \u001b[38;5;28;43mopen\u001b[39;49m\u001b[43m(\u001b[49m\n\u001b[1;32m    860\u001b[0m \u001b[43m            \u001b[49m\u001b[43mhandle\u001b[49m\u001b[43m,\u001b[49m\n\u001b[1;32m    861\u001b[0m \u001b[43m            \u001b[49m\u001b[43mioargs\u001b[49m\u001b[38;5;241;43m.\u001b[39;49m\u001b[43mmode\u001b[49m\u001b[43m,\u001b[49m\n\u001b[1;32m    862\u001b[0m \u001b[43m            \u001b[49m\u001b[43mencoding\u001b[49m\u001b[38;5;241;43m=\u001b[39;49m\u001b[43mioargs\u001b[49m\u001b[38;5;241;43m.\u001b[39;49m\u001b[43mencoding\u001b[49m\u001b[43m,\u001b[49m\n\u001b[1;32m    863\u001b[0m \u001b[43m            \u001b[49m\u001b[43merrors\u001b[49m\u001b[38;5;241;43m=\u001b[39;49m\u001b[43merrors\u001b[49m\u001b[43m,\u001b[49m\n\u001b[1;32m    864\u001b[0m \u001b[43m            \u001b[49m\u001b[43mnewline\u001b[49m\u001b[38;5;241;43m=\u001b[39;49m\u001b[38;5;124;43m\"\u001b[39;49m\u001b[38;5;124;43m\"\u001b[39;49m\u001b[43m,\u001b[49m\n\u001b[1;32m    865\u001b[0m \u001b[43m        \u001b[49m\u001b[43m)\u001b[49m\n\u001b[1;32m    866\u001b[0m     \u001b[38;5;28;01melse\u001b[39;00m:\n\u001b[1;32m    867\u001b[0m         \u001b[38;5;66;03m# Binary mode\u001b[39;00m\n\u001b[1;32m    868\u001b[0m         handle \u001b[38;5;241m=\u001b[39m \u001b[38;5;28mopen\u001b[39m(handle, ioargs\u001b[38;5;241m.\u001b[39mmode)\n",
      "\u001b[0;31mIsADirectoryError\u001b[0m: [Errno 21] Is a directory: '../data/mean_danceability_by_decade.csv'"
     ]
    }
   ],
   "source": [
    "\n",
    "# Preprocess the data\n",
    "new_df_year = hf.preprocess_data(df, True)\n",
    "print('size of the dataframe with years:', new_df_year.shape)\n",
    "print(new_df_year)\n",
    "\n",
    "#grouping the data by decade and calculating the mean danceability and the count of songs in each decade\n",
    "grouped_decade = new_df_year.groupby('decade')['danceability'].agg(['mean', 'count']).round(2)\n",
    "print(grouped_decade)\n",
    "\n",
    "grouped_decade.to_csv('../data/mean_danceability_by_decade.csv')\n",
    "\n",
    "#plotting this data\n",
    "grouped_decade['mean'].plot(kind='bar', color='#ffdfba')\n",
    "plt.xticks(rotation=45)\n",
    "plt.ylabel('Mean Danceability')\n",
    "plt.xlabel('Decade')\n",
    "plt.title('Mean Danceability by Decade')\n",
    "plt.savefig('../images/mean_danceability_by_decade.png', bbox_inches='tight')\n",
    "plt.show()\n",
    "\n",
    "#group by decade and median danceability\n",
    "grouped_decade_median = new_df_year.groupby('decade')['danceability'].median().round(2)\n",
    "\n",
    "#plotting this data\n",
    "grouped_decade_median.plot(kind='bar', color='#ffb3ba')\n",
    "plt.xticks(rotation=45)\n",
    "plt.ylabel('Median Danceability')\n",
    "plt.xlabel('Decade')\n",
    "plt.title('Median Danceability by Decade')\n",
    "plt.savefig('../images/median_danceability_by_decade.png', bbox_inches='tight')\n",
    "plt.show()\n",
    "\n",
    "# counting the number of songs with a specific danceability score\n",
    "danceability_score_count = new_df_year['danceability'].round(2).value_counts().sort_index()\n",
    "\n",
    "#plotting this data\n",
    "danceability_score_count.plot(kind='bar', color='#bae1ff')\n",
    "plt.xticks(rotation=0)\n",
    "plt.ylabel('Count')\n",
    "plt.xlabel('Danceability Score')\n",
    "plt.title('Count of Songs by Danceability')\n",
    "plt.savefig('../images/count_of_songs_by_danceability.png', bbox_inches='tight')\n",
    "plt.show()\n"
   ]
  },
  {
   "cell_type": "markdown",
   "metadata": {},
   "source": [
    "#### Danceability by words in title and decade"
   ]
  },
  {
   "cell_type": "code",
   "execution_count": 5,
   "metadata": {},
   "outputs": [
    {
     "name": "stdout",
     "output_type": "stream",
     "text": [
      "size of the dataframe with titles: (4667, 3)\n",
      "                                 title  danceability  decade\n",
      "1                            Soul Deep           0.9    1960\n",
      "3                      Something Girls           0.9    1980\n",
      "4                       Face the Ashes           0.9    2000\n",
      "8                           Pink World           0.4    1980\n",
      "14             Tonight Will Be Alright           1.0    1980\n",
      "...                                ...           ...     ...\n",
      "9991               The Forgotten Lands           0.6    1990\n",
      "9994            God Don't Never Change           0.6    1980\n",
      "9995                    The Hanged Man           0.7    1990\n",
      "9996  The Wonderful World Of The Young           0.3    1990\n",
      "9999                    Shattered Life           0.5    2000\n",
      "\n",
      "[4667 rows x 3 columns]\n",
      "      word  danceability  count\n",
      "88     que          0.78     12\n",
      "3      its          0.75     28\n",
      "84    want          0.75     18\n",
      "92    dont          0.73     66\n",
      "100    had          0.73     11\n",
      "109    bad          0.73     13\n",
      "17    girl          0.72     25\n",
      "128   lost          0.72     11\n",
      "36     les          0.72     15\n",
      "116  youre          0.72     11\n",
      "          word  danceability  decade  count\n",
      "6090  sabotage           0.4    2010      1\n",
      "6130       ate           0.6    2010      1\n",
      "6128     threw           0.6    2010      1\n",
      "6127     gimme           1.0    2010      1\n",
      "6126      legs           1.0    2010      1\n",
      "6125     shake           0.8    2010      1\n",
      "6124      city           0.8    2010      1\n",
      "6123      down           0.8    2010      1\n",
      "6122     blues           0.8    2010      1\n",
      "6121       gay           0.8    2010      1\n",
      "                    1920              1930              1940  \\\n",
      "0     (boweavil, 0.9, 1)   (going, 0.7, 1)     (die, 0.7, 1)   \n",
      "1  (mississippi, 0.9, 1)    (moon, 0.7, 1)   (fixin, 0.7, 1)   \n",
      "2      (writing, 0.7, 1)    (stop, 0.6, 1)   (blues, 0.6, 2)   \n",
      "3        (paper, 0.7, 1)   (thing, 0.6, 1)     (man, 0.5, 1)   \n",
      "4          (got, 0.7, 1)    (that, 0.6, 1)  (sleepy, 0.5, 1)   \n",
      "5          (the, 0.7, 1)    (down, 0.5, 2)  (smoke, 0.45, 2)   \n",
      "6       (blues, 0.64, 5)  (blues, 0.43, 3)      (None, None)   \n",
      "7       (bottom, 0.6, 1)     (car, 0.4, 1)      (None, None)   \n",
      "8      (raineys, 0.6, 1)  (street, 0.4, 1)      (None, None)   \n",
      "9        (black, 0.6, 1)   (south, 0.3, 1)      (None, None)   \n",
      "\n",
      "                1950              1960               1970              1980  \\\n",
      "0    (molly, 0.9, 1)    (its, 0.97, 4)     (its, 0.87, 4)   (you, 0.78, 18)   \n",
      "1  (darling, 0.9, 1)    (des, 0.93, 3)    (dont, 0.77, 4)   (song, 0.77, 6)   \n",
      "2   (forget, 0.9, 1)  (world, 0.73, 3)  (little, 0.76, 7)  (night, 0.73, 7)   \n",
      "3     (easy, 0.9, 1)   (you, 0.67, 13)    (just, 0.75, 4)   (your, 0.7, 13)   \n",
      "4   (auprès, 0.9, 1)   (the, 0.62, 14)     (for, 0.75, 4)   (never, 0.7, 6)   \n",
      "5      (mon, 0.9, 1)   (woman, 0.6, 3)     (blue, 0.7, 4)   (make, 0.67, 6)   \n",
      "6    (arbre, 0.9, 1)   (your, 0.58, 4)     (time, 0.7, 5)   (dont, 0.66, 8)   \n",
      "7      (put, 0.8, 1)    (man, 0.56, 5)    (love, 0.66, 8)  (love, 0.65, 13)   \n",
      "8    (spell, 0.8, 1)   (will, 0.53, 3)   (blues, 0.65, 4)   (the, 0.62, 50)   \n",
      "9      (los, 0.8, 1)   (blues, 0.5, 3)    (baby, 0.62, 4)    (for, 0.53, 8)   \n",
      "\n",
      "                1990              2000                 2010  \n",
      "0    (need, 0.77, 6)   (town, 0.85, 6)       (mich, 1.0, 1)  \n",
      "1    (life, 0.77, 9)  (youre, 0.82, 6)       (vida, 1.0, 1)  \n",
      "2   (dont, 0.76, 26)    (aint, 0.8, 7)  (parasitic, 1.0, 1)  \n",
      "3     (let, 0.76, 8)   (eyes, 0.78, 6)      (gimme, 1.0, 1)  \n",
      "4     (red, 0.75, 6)   (mind, 0.77, 6)       (legs, 1.0, 1)  \n",
      "5    (home, 0.74, 7)   (feel, 0.77, 6)     (später, 1.0, 1)  \n",
      "6  (little, 0.74, 7)    (que, 0.77, 7)      (twins, 1.0, 1)  \n",
      "7     (god, 0.72, 6)   (gone, 0.76, 9)      (hello, 1.0, 1)  \n",
      "8   (know, 0.72, 12)   (stop, 0.74, 8)      (trick, 1.0, 1)  \n",
      "9    (get, 0.69, 14)   (say, 0.74, 14)      (rette, 1.0, 1)  \n"
     ]
    }
   ],
   "source": [
    "# Preprocess the data with titles (year argument False)\n",
    "new_df_title = hf.preprocess_data(df, False)\n",
    "print('size of the dataframe with titles:', new_df_title.shape)\n",
    "print(new_df_title)\n",
    "\n",
    "#get the word count for each song title\n",
    "word_count = hf.danceability_by_word(new_df_title)\n",
    "\n",
    "#store the word count by decade\n",
    "word_store_by_decade = hf.get_word_count_store_by_decade(word_count)\n",
    "\n",
    "#get the count of words by decade and the count of songs by word\n",
    "df_count_by_decade, df_count_by_word = hf.get_word_count_ind_and_by_decade(word_store_by_decade)\n",
    "\n",
    "#sort the dataframes and print to verify head\n",
    "df_count_by_word.sort_values(by='danceability', ascending=False, inplace=True)\n",
    "df_count_by_decade.sort_values(by='decade', ascending=False, inplace=True)\n",
    "\n",
    "print(df_count_by_word.head(10))\n",
    "print(df_count_by_decade.head(10))\n",
    "\n",
    "#make the top 10 words by decade into a dataframe and print\n",
    "df_mean_dance_by_decade = hf.get_top_10_words_by_decade(df_count_by_decade)\n",
    "\n",
    "print(df_mean_dance_by_decade)\n",
    "\n",
    "#store the top 10 words by decade, and top 20 words csv files\n",
    "df_mean_dance_by_decade.to_csv('../data/mean_danceability_by_word.csv', index=False)\n",
    "df_count_by_word.head(20).to_csv('../data/count_by_word.csv', index=False)\n",
    "\n"
   ]
  }
 ],
 "metadata": {
  "kernelspec": {
   "display_name": "Python 3 (ipykernel)",
   "language": "python",
   "name": "python3"
  },
  "language_info": {
   "codemirror_mode": {
    "name": "ipython",
    "version": 3
   },
   "file_extension": ".py",
   "mimetype": "text/x-python",
   "name": "python",
   "nbconvert_exporter": "python",
   "pygments_lexer": "ipython3",
   "version": "3.8.10"
  }
 },
 "nbformat": 4,
 "nbformat_minor": 4
}
