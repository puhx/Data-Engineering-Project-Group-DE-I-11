{
 "cells": [
  {
   "cell_type": "code",
   "execution_count": 1,
   "id": "78f86351-cca2-4a7e-a666-719608545f23",
   "metadata": {},
   "outputs": [],
   "source": [
    "# PySpark imports\n",
    "from pyspark.sql import SparkSession\n",
    "from pyspark.sql.functions import (\n",
    "    round, count, avg, col, udf, abs, mean, expr\n",
    ")\n",
    "from pyspark.sql.types import IntegerType, FloatType\n",
    "\n",
    "# Other imports\n",
    "import pandas as pd\n",
    "import numpy as np\n",
    "import matplotlib.pyplot as plt\n",
    "import time\n"
   ]
  },
  {
   "cell_type": "code",
   "execution_count": 2,
   "id": "ba58cf60-45f5-4bb5-bcd2-aee90854ca10",
   "metadata": {},
   "outputs": [
    {
     "name": "stderr",
     "output_type": "stream",
     "text": [
      "Setting default log level to \"WARN\".\n",
      "To adjust logging level use sc.setLogLevel(newLevel). For SparkR, use setLogLevel(newLevel).\n",
      "24/03/11 14:58:17 WARN NativeCodeLoader: Unable to load native-hadoop library for your platform... using builtin-java classes where applicable\n",
      "24/03/11 14:58:18 WARN StandaloneSchedulerBackend: Dynamic allocation enabled without spark.executor.cores explicitly set, you may get more executors allocated than expected. It's recommended to set spark.executor.cores explicitly. Please check SPARK-30299 for more details.\n",
      "24/03/11 14:58:19 WARN Utils: spark.executor.instances less than spark.dynamicAllocation.minExecutors is invalid, ignoring its setting, please update your configs.\n"
     ]
    }
   ],
   "source": [
    "#number of spark workers\n",
    "n_workers = \"2\"\n",
    "\n",
    "spark_session = SparkSession.builder\\\n",
    "        .master(\"spark://192.168.2.145:7077\") \\\n",
    "        .appName(\"\")\\\n",
    "        .config(\"spark.dynamicAllocation.enabled\", True)\\\n",
    "        .config(\"spark.dynamicAllocation.shuffleTracking.enabled\",True)\\\n",
    "        .config(\"spark.shuffle.service.enabled\", False)\\\n",
    "        .config(\"spark.dynamicAllocation.executorIdleTimeout\",\"30s\")\\\n",
    "        .config(\"spark.dynamicAllocation.minExecutors\", n_workers)\\\n",
    "        .config(\"spark.dynamicAllocation.maxExecutors\", n_workers)\\\n",
    "        .config(\"spark.driver.port\",9999)\\\n",
    "        .config(\"spark.blockManager.port\",10005)\\\n",
    "        .getOrCreate()\n",
    "\n",
    "# create spark context and set log level to warn\n",
    "spark_context = spark_session.sparkContext\n",
    "\n",
    "spark_context.setLogLevel(\"WARN\")\n"
   ]
  },
  {
   "cell_type": "code",
   "execution_count": 3,
   "id": "6dc14202-474a-4a1e-8972-db1b656880cc",
   "metadata": {},
   "outputs": [],
   "source": [
    "#returns a score based on the difference from the \"perfect\" bpm\n",
    "def get_bpm_range(bpm_diff):\n",
    "    if bpm_diff < 10:\n",
    "        return 0.6\n",
    "    elif bpm_diff < 20:\n",
    "        return 0.4\n",
    "    elif bpm_diff < 30:\n",
    "        return 0.3\n",
    "    elif bpm_diff < 40:\n",
    "        return 0.1\n",
    "    else:\n",
    "        return 0.0\n",
    "#returns a score based on the difference from the \"perfect\" loudness\n",
    "\n",
    "def get_loudness_range(loudness_diff):\n",
    "    if loudness_diff < 2:\n",
    "        return 0.4\n",
    "    elif loudness_diff < 15:\n",
    "        return 0.3\n",
    "    elif loudness_diff < 35:\n",
    "        return 0.2\n",
    "    elif loudness_diff < 40:\n",
    "        return 0.1\n",
    "    else:\n",
    "        return 0.0\n",
    "\n",
    "get_bpm_range_udf = udf(get_bpm_range, FloatType())\n",
    "get_loudness_range_udf = udf(get_loudness_range, FloatType())\n",
    "\n",
    "#calculates the danceability based on loudness and bpm cols in a spark dataframe\n",
    "def calculate_danceability(loudness_col, bpm_col):\n",
    "    # Calculate differences\n",
    "    loudness_diff = abs(loudness_col + 7)\n",
    "    bpm_diff = abs(bpm_col - 120)\n",
    "\n",
    "    # Get the scores \n",
    "    loudness_score = get_loudness_range_udf(loudness_diff)\n",
    "    bpm_score = get_bpm_range_udf(bpm_diff)\n",
    "\n",
    "    # Calculate danceability\n",
    "    danceability = bpm_score + loudness_score\n",
    "    \n",
    "    return danceability\n",
    "\n",
    "#year to decade function, year must be an int\n",
    "def year_to_decade_udf(year):\n",
    "    return year - (year % 10)\n",
    "\n",
    "year_to_decade_spark_udf = udf(year_to_decade_udf, IntegerType())\n",
    "\n",
    "#pruning function for spark dataframe\n",
    "def prune_data(df):\n",
    "    # Remove rows with missing values\n",
    "    df = df.dropna()\n",
    "    # Remove rows with invalid values\n",
    "    df = df.filter((col('year') > 0) &\n",
    "                   (col('bpm') > 0) & (col('bpm') < 300) &\n",
    "                   (col('loudness') > -100) & (col('loudness') < 0))\n",
    "    return df\n",
    "\n",
    "#preprocess data, drop unneccesary columns, calculate danceablity and change years to decae\n",
    "def preprocess_data(df):\n",
    "    # Calculate danceability\n",
    "    df = df.withColumn('year', col('year').cast(IntegerType()))\n",
    "    df = df.withColumn('loudness', col('loudness').cast(IntegerType()))\n",
    "    df = df.withColumn('bpm', col('bpm').cast(IntegerType()))\n",
    "    pruned_df = prune_data(df)\n",
    "    #calculate the danceability and round it\n",
    "    pruned_df = pruned_df.withColumn('danceability', calculate_danceability(col('loudness'), col('bpm')))\n",
    "    pruned_df = pruned_df.withColumn('danceability', round(col('danceability'), 2))\n",
    "    #change the years into decades\n",
    "    pruned_df = pruned_df.withColumn('decade', year_to_decade_spark_udf(col('year')))\n",
    "    pruned_df = pruned_df.drop('loudness', 'bpm', 'year')\n",
    "    return pruned_df\n"
   ]
  },
  {
   "cell_type": "code",
   "execution_count": 4,
   "id": "5e59c757-0b39-4dc4-b315-033e570b4f6d",
   "metadata": {},
   "outputs": [
    {
     "name": "stdout",
     "output_type": "stream",
     "text": [
      "running :)\n"
     ]
    },
    {
     "name": "stderr",
     "output_type": "stream",
     "text": [
      "                                                                                \r"
     ]
    },
    {
     "name": "stdout",
     "output_type": "stream",
     "text": [
      "Number of Rows in original df: 20000000\n",
      "Number of Columns in original df: 3\n"
     ]
    },
    {
     "name": "stderr",
     "output_type": "stream",
     "text": [
      "                                                                                \r"
     ]
    },
    {
     "name": "stdout",
     "output_type": "stream",
     "text": [
      "Number of Rows after preprocessing: 9121286\n",
      "Number of Columns after preprocessing: 2\n"
     ]
    },
    {
     "name": "stderr",
     "output_type": "stream",
     "text": [
      "                                                                                \r"
     ]
    },
    {
     "name": "stdout",
     "output_type": "stream",
     "text": [
      "+------------+------+\n",
      "|danceability|decade|\n",
      "+------------+------+\n",
      "|         0.5|  1990|\n",
      "|         0.6|  2000|\n",
      "|         0.3|  2030|\n",
      "|         0.8|  2010|\n",
      "|         0.3|  2010|\n",
      "|         0.7|  2010|\n",
      "|         0.3|  2030|\n",
      "|         0.3|  2030|\n",
      "|         0.3|  2010|\n",
      "|         0.9|  2030|\n",
      "+------------+------+\n",
      "only showing top 10 rows\n",
      "\n"
     ]
    },
    {
     "name": "stderr",
     "output_type": "stream",
     "text": [
      "                                                                                \r"
     ]
    },
    {
     "name": "stdout",
     "output_type": "stream",
     "text": [
      "+------+-----------------+-------------------+-------+\n",
      "|decade|mean_danceability|median_danceability|  count|\n",
      "+------+-----------------+-------------------+-------+\n",
      "|  1990|             0.53|                0.6|  25865|\n",
      "|  2040|             0.41|                0.3|2563716|\n",
      "|  1950|             0.54|                0.6|    391|\n",
      "|  2060|             0.36|                0.3| 748104|\n",
      "|  2030|             0.42|                0.3|1290087|\n",
      "|  2020|              0.4|                0.3| 622650|\n",
      "|  1960|             0.51|                0.6|   2147|\n",
      "|  1970|             0.43|                0.4|  10875|\n",
      "|  2050|             0.39|                0.3|3414114|\n",
      "|  1980|             0.48|                0.4|  14036|\n",
      "+------+-----------------+-------------------+-------+\n",
      "only showing top 10 rows\n",
      "\n"
     ]
    },
    {
     "name": "stderr",
     "output_type": "stream",
     "text": [
      "                                                                                \r"
     ]
    },
    {
     "name": "stdout",
     "output_type": "stream",
     "text": [
      "+------------+-------+\n",
      "|danceability|  count|\n",
      "+------------+-------+\n",
      "|         0.2|1892672|\n",
      "|         0.3|3473662|\n",
      "|         0.4|1112639|\n",
      "|         0.5| 464688|\n",
      "|         0.6| 914216|\n",
      "|         0.7| 628164|\n",
      "|         0.8| 265344|\n",
      "|         0.9| 312986|\n",
      "|         1.0|  56915|\n",
      "+------------+-------+\n",
      "\n"
     ]
    },
    {
     "name": "stderr",
     "output_type": "stream",
     "text": [
      "                                                                                \r"
     ]
    },
    {
     "data": {
      "image/png": "[encoded data removed]",
      "text/plain": [
       "<Figure size 640x480 with 1 Axes>"
      ]
     },
     "metadata": {},
     "output_type": "display_data"
    },
    {
     "name": "stderr",
     "output_type": "stream",
     "text": [
      "                                                                                \r"
     ]
    },
    {
     "name": "stdout",
     "output_type": "stream",
     "text": [
      "Number of Rows in original df: 20000000\n",
      "Number of Columns in original df: 3\n"
     ]
    },
    {
     "name": "stderr",
     "output_type": "stream",
     "text": [
      "                                                                                \r"
     ]
    },
    {
     "name": "stdout",
     "output_type": "stream",
     "text": [
      "Number of Rows after preprocessing: 9121286\n",
      "Number of Columns after preprocessing: 2\n",
      "+------------+------+\n",
      "|danceability|decade|\n",
      "+------------+------+\n",
      "|         0.5|  1990|\n",
      "|         0.6|  2000|\n",
      "|         0.3|  2030|\n",
      "|         0.8|  2010|\n",
      "|         0.3|  2010|\n",
      "|         0.7|  2010|\n",
      "|         0.3|  2030|\n",
      "|         0.3|  2030|\n",
      "|         0.3|  2010|\n",
      "|         0.9|  2030|\n",
      "+------------+------+\n",
      "only showing top 10 rows\n",
      "\n"
     ]
    },
    {
     "name": "stderr",
     "output_type": "stream",
     "text": [
      "                                                                                \r"
     ]
    },
    {
     "name": "stdout",
     "output_type": "stream",
     "text": [
      "+------+-----------------+-------------------+-------+\n",
      "|decade|mean_danceability|median_danceability|  count|\n",
      "+------+-----------------+-------------------+-------+\n",
      "|  1990|             0.53|                0.6|  25865|\n",
      "|  2040|             0.41|                0.3|2563716|\n",
      "|  1950|             0.54|                0.6|    391|\n",
      "|  2060|             0.36|                0.3| 748104|\n",
      "|  2030|             0.42|                0.3|1290087|\n",
      "|  2070|             0.33|                0.3|    625|\n",
      "|  2020|              0.4|                0.3| 622650|\n",
      "|  1960|             0.51|                0.6|   2147|\n",
      "|  1970|             0.43|                0.4|  10875|\n",
      "|  2050|             0.39|                0.3|3414114|\n",
      "+------+-----------------+-------------------+-------+\n",
      "only showing top 10 rows\n",
      "\n"
     ]
    },
    {
     "name": "stderr",
     "output_type": "stream",
     "text": [
      "                                                                                \r"
     ]
    },
    {
     "name": "stdout",
     "output_type": "stream",
     "text": [
      "+------------+-------+\n",
      "|danceability|  count|\n",
      "+------------+-------+\n",
      "|         0.2|1892672|\n",
      "|         0.3|3473662|\n",
      "|         0.4|1112639|\n",
      "|         0.5| 464688|\n",
      "|         0.6| 914216|\n",
      "|         0.7| 628164|\n",
      "|         0.8| 265344|\n",
      "|         0.9| 312986|\n",
      "|         1.0|  56915|\n",
      "+------------+-------+\n",
      "\n"
     ]
    },
    {
     "name": "stderr",
     "output_type": "stream",
     "text": [
      "                                                                                \r"
     ]
    },
    {
     "data": {
      "image/png": "[encoded data removed]",
      "text/plain": [
       "<Figure size 640x480 with 1 Axes>"
      ]
     },
     "metadata": {},
     "output_type": "display_data"
    },
    {
     "name": "stderr",
     "output_type": "stream",
     "text": [
      "                                                                                \r"
     ]
    },
    {
     "name": "stdout",
     "output_type": "stream",
     "text": [
      "Number of Rows in original df: 20000000\n",
      "Number of Columns in original df: 3\n"
     ]
    },
    {
     "name": "stderr",
     "output_type": "stream",
     "text": [
      "                                                                                \r"
     ]
    },
    {
     "name": "stdout",
     "output_type": "stream",
     "text": [
      "Number of Rows after preprocessing: 9121286\n",
      "Number of Columns after preprocessing: 2\n",
      "+------------+------+\n",
      "|danceability|decade|\n",
      "+------------+------+\n",
      "|         0.5|  1990|\n",
      "|         0.6|  2000|\n",
      "|         0.3|  2030|\n",
      "|         0.8|  2010|\n",
      "|         0.3|  2010|\n",
      "|         0.7|  2010|\n",
      "|         0.3|  2030|\n",
      "|         0.3|  2030|\n",
      "|         0.3|  2010|\n",
      "|         0.9|  2030|\n",
      "+------------+------+\n",
      "only showing top 10 rows\n",
      "\n"
     ]
    },
    {
     "name": "stderr",
     "output_type": "stream",
     "text": [
      "                                                                                \r"
     ]
    },
    {
     "name": "stdout",
     "output_type": "stream",
     "text": [
      "+------+-----------------+-------------------+-------+\n",
      "|decade|mean_danceability|median_danceability|  count|\n",
      "+------+-----------------+-------------------+-------+\n",
      "|  1990|             0.53|                0.6|  25865|\n",
      "|  2040|             0.41|                0.3|2563716|\n",
      "|  1950|             0.54|                0.6|    391|\n",
      "|  2060|             0.36|                0.3| 748104|\n",
      "|  2030|             0.42|                0.3|1290087|\n",
      "|  2070|             0.33|                0.3|    625|\n",
      "|  2020|              0.4|                0.3| 622650|\n",
      "|  1960|             0.51|                0.6|   2147|\n",
      "|  1970|             0.43|                0.4|  10875|\n",
      "|  2050|             0.39|                0.3|3414114|\n",
      "+------+-----------------+-------------------+-------+\n",
      "only showing top 10 rows\n",
      "\n"
     ]
    },
    {
     "name": "stderr",
     "output_type": "stream",
     "text": [
      "                                                                                \r"
     ]
    },
    {
     "name": "stdout",
     "output_type": "stream",
     "text": [
      "+------------+-------+\n",
      "|danceability|  count|\n",
      "+------------+-------+\n",
      "|         0.2|1892672|\n",
      "|         0.3|3473662|\n",
      "|         0.4|1112639|\n",
      "|         0.5| 464688|\n",
      "|         0.6| 914216|\n",
      "|         0.7| 628164|\n",
      "|         0.8| 265344|\n",
      "|         0.9| 312986|\n",
      "|         1.0|  56915|\n",
      "+------------+-------+\n",
      "\n"
     ]
    },
    {
     "name": "stderr",
     "output_type": "stream",
     "text": [
      "                                                                                \r"
     ]
    },
    {
     "data": {
      "image/png": "[encoded data removed]",
      "text/plain": [
       "<Figure size 640x480 with 1 Axes>"
      ]
     },
     "metadata": {},
     "output_type": "display_data"
    },
    {
     "name": "stdout",
     "output_type": "stream",
     "text": [
      "Times with 2 workers:\n",
      "For file:hdfs://192.168.2.145:5000/de11project/aggregated_song_features_2000x.csv\n",
      "[213.57880687713623, 197.08284664154053, 197.88439202308655]\n",
      "Average time: 202.84868184725443\n"
     ]
    }
   ],
   "source": [
    "#list to save the times for each run and number of runs\n",
    "times = []\n",
    "num_runs = 3\n",
    "print('running :)')\n",
    "\n",
    "for _ in range(num_runs):\n",
    "    #get start time\n",
    "    start = time.time()\n",
    "    \n",
    "    file_path = 'hdfs://192.168.2.145:5000/de11project/aggregated_song_features_2000x.csv' \n",
    "    \n",
    "    # Read the CSV file into a spark dataframe\n",
    "    spark_df = spark_session.read.format(\"csv\")\\\n",
    "        .option(\"header\", \"true\")\\\n",
    "        .load(file_path)\n",
    " \n",
    "    # printing number of rows and cols \n",
    "    num_rows = spark_df.count()\n",
    "    num_columns = len(spark_df.columns)\n",
    "    \n",
    "    print(\"Number of Rows in original df:\", num_rows)\n",
    "    print(\"Number of Columns in original df:\", num_columns)\n",
    "\n",
    "    #preprocess data and counting number of rows and cols\n",
    "    preprocessed_df = preprocess_data(spark_df)\n",
    "    \n",
    "    num_columns = len(preprocessed_df.columns)\n",
    "    num_rows = preprocessed_df.count()\n",
    "    \n",
    "    print(\"Number of Rows after preprocessing:\", num_rows)\n",
    "    print(\"Number of Columns after preprocessing:\", num_columns)\n",
    "\n",
    "    #show the first 10 rows of preprocessed data\n",
    "    preprocessed_df.show(10)\n",
    "\n",
    "    #get mean and median values grouped by decade\n",
    "    grouped_decade = preprocessed_df.groupBy('decade')\\\n",
    "    .agg(mean('danceability').alias('mean_danceability'), \n",
    "         expr('percentile_approx(danceability, 0.5)').alias('median_danceability'), \n",
    "         count('*').alias('count'))\\\n",
    "    .withColumn('mean_danceability', round('mean_danceability', 2))\\\n",
    "    .withColumn('median_danceability', round('median_danceability', 2))\\\n",
    "    .select('decade', 'mean_danceability', 'median_danceability', 'count')\n",
    "    \n",
    "    # Show the first 10 rows of the grouped data\n",
    "    grouped_decade.show(10)\n",
    "    \n",
    "    #collect decades for plotting\n",
    "    decades = grouped_decade.select('decade').rdd.flatMap(lambda x: x).collect()\n",
    "\n",
    "    #collect mean danceablity to plot\n",
    "    mean_danceability = grouped_decade.select('mean_danceability').rdd.flatMap(lambda x: x).collect()\n",
    "    \n",
    "    # Plotting mean graph\n",
    "    #plt.bar(decades, mean_danceability, color='#ffdfba', width=2)\n",
    "    #plt.xticks(rotation=45)\n",
    "    #plt.ylabel('Mean Danceability')\n",
    "    #plt.xlabel('Decade')\n",
    "    #plt.title('Mean Danceability by Decade')\n",
    "    #plt.savefig('../images/mean_danceability_by_decade.png', bbox_inches='tight')\n",
    "    #plt.show()\n",
    "    \n",
    "    #collect median danceablity to plot\n",
    "    median_danceability = grouped_decade.select('median_danceability').rdd.flatMap(lambda x: x).collect()\n",
    "    \n",
    "    # Plotting median graph\n",
    "    #plt.bar(decades, median_danceability, color='#ffb3ba', width=2)\n",
    "    #plt.xticks(rotation=45)\n",
    "    #plt.ylabel('Median Danceability')\n",
    "    #plt.xlabel('Decade')\n",
    "    #plt.title('Median Danceability by Decade')\n",
    "    #plt.savefig('../images/median_danceability_by_decade.png', bbox_inches='tight')\n",
    "    plt.show()\n",
    "    \n",
    "    # Group by rounded danceability scores and count the number of songs for each score\n",
    "    danceability_score_count = preprocessed_df.groupBy('danceability').count().orderBy('danceability')\n",
    "\n",
    "    # Show the result\n",
    "    danceability_score_count.show()\n",
    "    \n",
    "    # Collect data to plot\n",
    "    scores = danceability_score_count.select('danceability').rdd.flatMap(lambda x: x).collect()\n",
    "    counts = danceability_score_count.select('count').rdd.flatMap(lambda x: x).collect()\n",
    "    \n",
    "    # Plotting\n",
    "    plt.bar(scores, counts, color='#bae1ff', width=0.02)\n",
    "    plt.xticks(rotation=0)\n",
    "    plt.ylabel('Count')\n",
    "    plt.xlabel('Danceability Score')\n",
    "    plt.title('Count of Songs by Danceability')\n",
    "    plt.savefig('../images/count_of_songs_by_danceability.png', bbox_inches='tight')\n",
    "    plt.show()\n",
    "\n",
    "    #get end time\n",
    "    end = time.time()\n",
    "    times.append(end - start)\n",
    "\n",
    "print(f\"Times with {n_workers} workers:\")\n",
    "print(f\"For file:{file_path}\")\n",
    "print(times)\n",
    "print(f\"Average time: {np.mean(times)}\")\n",
    "\n"
   ]
  },
  {
   "cell_type": "code",
   "execution_count": 5,
   "id": "a9968a3d-2c2b-4d55-b53f-b521814972d3",
   "metadata": {},
   "outputs": [],
   "source": [
    "#stopping the spark session\n",
    "spark_session.stop()"
   ]
  }
 ],
 "metadata": {
  "kernelspec": {
   "display_name": "Python 3 (ipykernel)",
   "language": "python",
   "name": "python3"
  },
  "language_info": {
   "codemirror_mode": {
    "name": "ipython",
    "version": 3
   },
   "file_extension": ".py",
   "mimetype": "text/x-python",
   "name": "python",
   "nbconvert_exporter": "python",
   "pygments_lexer": "ipython3",
   "version": "3.8.10"
  }
 },
 "nbformat": 4,
 "nbformat_minor": 5
}
