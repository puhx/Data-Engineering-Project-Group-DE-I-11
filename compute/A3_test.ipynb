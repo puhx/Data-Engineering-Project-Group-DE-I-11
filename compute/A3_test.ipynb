{
 "cells": [
  {
   "cell_type": "code",
   "execution_count": 1,
   "id": "ba58cf60-45f5-4bb5-bcd2-aee90854ca10",
   "metadata": {},
   "outputs": [
    {
     "name": "stderr",
     "output_type": "stream",
     "text": [
      "Setting default log level to \"WARN\".\n",
      "To adjust logging level use sc.setLogLevel(newLevel). For SparkR, use setLogLevel(newLevel).\n",
      "24/03/10 11:31:05 WARN NativeCodeLoader: Unable to load native-hadoop library for your platform... using builtin-java classes where applicable\n",
      "24/03/10 11:31:06 WARN StandaloneSchedulerBackend: Dynamic allocation enabled without spark.executor.cores explicitly set, you may get more executors allocated than expected. It's recommended to set spark.executor.cores explicitly. Please check SPARK-30299 for more details.\n",
      "24/03/10 11:31:06 WARN Utils: spark.executor.instances less than spark.dynamicAllocation.minExecutors is invalid, ignoring its setting, please update your configs.\n"
     ]
    }
   ],
   "source": [
    "from pyspark.sql import SparkSession\n",
    "import pandas as pd\n",
    "import time\n",
    "\n",
    "n_workers = \"4\"\n",
    "\n",
    "spark_session = SparkSession.builder\\\n",
    "        .master(\"spark://192.168.2.145:7077\") \\\n",
    "        .appName(\"TEST\")\\\n",
    "        .config(\"spark.dynamicAllocation.enabled\", True)\\\n",
    "        .config(\"spark.dynamicAllocation.shuffleTracking.enabled\",True)\\\n",
    "        .config(\"spark.shuffle.service.enabled\", False)\\\n",
    "        .config(\"spark.dynamicAllocation.executorIdleTimeout\",\"30s\")\\\n",
    "        .config(\"spark.dynamicAllocation.minExecutors\", n_workers)\\\n",
    "        .config(\"spark.dynamicAllocation.maxExecutors\", n_workers)\\\n",
    "        .config(\"spark.driver.port\",9999)\\\n",
    "        .config(\"spark.blockManager.port\",10005)\\\n",
    "        .getOrCreate()\n",
    "\n",
    "# RDD API\n",
    "spark_context = spark_session.sparkContext\n",
    "\n",
    "spark_context.setLogLevel(\"WARN\")\n",
    "\n",
    "# Assuming you have a file to read in HDFS\n",
    "#lines = spark_context.textFile(\"hdfs://192.168.2.145:5000/de11project/test2.txt\")\n",
    "#print(lines.first())\n",
    "\n",
    "#spark_context.stop()\n",
    "\n",
    "#hdfs_path = 'hdfs://192.168.2.145:5000/de11project/aggregated_song_features_2.csv'\n",
    "\n",
    "# Read the H5 file into a DataFrame\n",
    "\n",
    "\n",
    "# Show the DataFrame schema\n"
   ]
  },
  {
   "cell_type": "code",
   "execution_count": 2,
   "id": "6dc14202-474a-4a1e-8972-db1b656880cc",
   "metadata": {},
   "outputs": [
    {
     "name": "stdout",
     "output_type": "stream",
     "text": [
      "went ok :)\n"
     ]
    }
   ],
   "source": [
    "from pyspark.sql.functions import col, udf\n",
    "from pyspark.sql.types import IntegerType\n",
    "from pyspark.sql.functions import abs\n",
    "from pyspark.sql.types import FloatType\n",
    "\n",
    "def get_bpm_range(bpm_diff):\n",
    "    if bpm_diff < 10:\n",
    "        return 0.6\n",
    "    elif bpm_diff < 20:\n",
    "        return 0.4\n",
    "    elif bpm_diff < 30:\n",
    "        return 0.3\n",
    "    elif bpm_diff < 40:\n",
    "        return 0.1\n",
    "    else:\n",
    "        return 0.0\n",
    "\n",
    "def get_loudness_range(loudness_diff):\n",
    "    if loudness_diff < 2:\n",
    "        return 0.4\n",
    "    elif loudness_diff < 15:\n",
    "        return 0.3\n",
    "    elif loudness_diff < 35:\n",
    "        return 0.2\n",
    "    elif loudness_diff < 40:\n",
    "        return 0.1\n",
    "    else:\n",
    "        return 0.0\n",
    "\n",
    "get_bpm_range_udf = udf(get_bpm_range, FloatType())\n",
    "get_loudness_range_udf = udf(get_loudness_range, FloatType())\n",
    "\n",
    "def calculate_danceability(loudness_col, bpm_col):\n",
    "    # Applying transformations to DataFrame columns\n",
    "    loudness_col = abs(loudness_col + 7)\n",
    "    bpm_col = abs(bpm_col - 120)\n",
    "    \n",
    "    # Apply UDFs to DataFrame columns\n",
    "    loudness_score = get_loudness_range_udf(loudness_col)\n",
    "    bpm_score = get_bpm_range_udf(bpm_col)\n",
    "    \n",
    "    # Calculate danceability\n",
    "    danceability = bpm_score + loudness_score\n",
    "\n",
    "    return danceability\n",
    "\n",
    "\n",
    "# Define UDF for year_to_decade function\n",
    "def year_to_decade_udf(year):\n",
    "    return year - (year % 10)\n",
    "\n",
    "year_to_decade_spark_udf = udf(year_to_decade_udf, IntegerType())\n",
    "\n",
    "def prune_data(df):\n",
    "    # Remove rows with missing values\n",
    "    df = df.dropna()\n",
    "    # Remove rows with invalid values\n",
    "    df = df.filter((col('year') > 0) & (col('year') < 2024) &\n",
    "                   (col('bpm') > 0) & (col('bpm') < 300) &\n",
    "                   (col('loudness') > -100) & (col('loudness') < 0))\n",
    "    return df\n",
    "\n",
    "def preprocess_data(df, check_year):\n",
    "    print('in prepr', df, check_year)\n",
    "    # Calculate danceability\n",
    "    df = df.withColumn('year', col('year').cast(IntegerType()))\n",
    "    df = df.withColumn('loudness', col('loudness').cast(IntegerType()))\n",
    "    df = df.withColumn('bpm', col('bpm').cast(IntegerType()))\n",
    "    new_df = prune_data(df)\n",
    "    new_df = new_df.withColumn('danceability', calculate_danceability(col('loudness'), col('bpm')))\n",
    "    new_df = new_df.withColumn('danceability', col('danceability').cast(IntegerType()))\n",
    "    # Prune the data\n",
    "    new_df = new_df.withColumn('decade', year_to_decade_spark_udf(col('year')))\n",
    "    new_df = new_df.drop('loudness', 'bpm', 'year')\n",
    "    return new_df\n",
    "\n",
    "print('went ok :)')\n"
   ]
  },
  {
   "cell_type": "code",
   "execution_count": 3,
   "id": "5e59c757-0b39-4dc4-b315-033e570b4f6d",
   "metadata": {},
   "outputs": [
    {
     "name": "stderr",
     "output_type": "stream",
     "text": [
      "                                                                                \r"
     ]
    },
    {
     "name": "stdout",
     "output_type": "stream",
     "text": [
      "+-------+-------------------+----+\n",
      "|    bpm|           loudness|year|\n",
      "+-------+-------------------+----+\n",
      "| 98.198| -5.196999999999999|   0|\n",
      "|127.274|             -3.843|1975|\n",
      "| 106.07|             -3.689|   0|\n",
      "|125.293|             -3.013|1988|\n",
      "|135.738|               -5.0|2013|\n",
      "|153.782|-3.3230000000000004|   0|\n",
      "|117.787|            -11.302|   0|\n",
      "| 107.43|-5.6419999999999995|   0|\n",
      "| 92.643|             -7.496|1990|\n",
      "|120.041|-0.6970000000000001|   0|\n",
      "|152.765| -4.021000000000001|   0|\n",
      "|123.975|             -1.545|   0|\n",
      "| 136.04|-0.6319999999999997|   0|\n",
      "|143.334|              -1.75|   0|\n",
      "|131.197|             -2.346|1992|\n",
      "|125.826|-2.5760000000000005|1993|\n",
      "|133.756|             -10.11|   0|\n",
      "|105.273|             -2.032|   0|\n",
      "|156.062|              -14.0|2010|\n",
      "|144.331|-0.7869999999999999|   0|\n",
      "+-------+-------------------+----+\n",
      "only showing top 20 rows\n",
      "\n"
     ]
    },
    {
     "name": "stderr",
     "output_type": "stream",
     "text": [
      "                                                                                \r"
     ]
    },
    {
     "name": "stdout",
     "output_type": "stream",
     "text": [
      "Number of Rows: 10000000\n",
      "Number of Columns: 3\n",
      "in prepr DataFrame[bpm: string, loudness: string, year: string] True\n"
     ]
    },
    {
     "name": "stderr",
     "output_type": "stream",
     "text": [
      "                                                                                \r"
     ]
    },
    {
     "name": "stdout",
     "output_type": "stream",
     "text": [
      "Number of Rows: 1803109\n",
      "Number of Columns: 2\n"
     ]
    },
    {
     "name": "stderr",
     "output_type": "stream",
     "text": [
      "[Stage 8:===================================================>       (7 + 1) / 8]\r"
     ]
    },
    {
     "name": "stdout",
     "output_type": "stream",
     "text": [
      "+------+-----------------+------+\n",
      "|decade|mean_danceability| count|\n",
      "+------+-----------------+------+\n",
      "|  1990|             0.02|179306|\n",
      "|  1950|             0.04|  6207|\n",
      "|  2020|             0.02|466412|\n",
      "|  1960|             0.03|  6907|\n",
      "|  1970|             0.03| 15275|\n",
      "|  1980|             0.02| 64648|\n",
      "|  2000|             0.02|339083|\n",
      "|  2010|             0.02|723663|\n",
      "|  1940|             0.04|  1316|\n",
      "|  1930|             0.18|   292|\n",
      "+------+-----------------+------+\n",
      "\n"
     ]
    },
    {
     "name": "stderr",
     "output_type": "stream",
     "text": [
      "                                                                                \r"
     ]
    }
   ],
   "source": [
    "from pyspark.sql.functions import round, count, avg\n",
    "\n",
    "start = time.time()\n",
    "file_path = 'hdfs://192.168.2.145:5000/de11project/aggregated_song_features_1000x-2.csv'  # Replace this with the actual file path\n",
    "\n",
    "# Read the CSV file into a DataFrame, using the first row as headers\n",
    "spark_df = spark_session.read.format(\"csv\")\\\n",
    "    .option(\"header\", \"true\")\\\n",
    "    .load(file_path)\n",
    "\n",
    "spark_df.show()\n",
    "\n",
    "num_rows = spark_df.count()\n",
    "\n",
    "# Get the number of columns\n",
    "num_columns = len(spark_df.columns)\n",
    "\n",
    "print(\"Number of Rows:\", num_rows)\n",
    "print(\"Number of Columns:\", num_columns)\n",
    "\n",
    "preprocessed_df = preprocess_data(spark_df, check_year=True)\n",
    "\n",
    "num_columns = len(preprocessed_df.columns)\n",
    "num_rows = preprocessed_df.count()\n",
    "\n",
    "print(\"Number of Rows:\", num_rows)\n",
    "print(\"Number of Columns:\", num_columns)\n",
    "\n",
    "grouped_decade = preprocessed_df.groupBy('decade')\\\n",
    "    .agg(\n",
    "        round(avg('danceability'), 2).alias('mean_danceability'),\n",
    "        count('*').alias('count')\n",
    "    )\n",
    "\n",
    "# Show the result\n",
    "grouped_decade.show()"
   ]
  },
  {
   "cell_type": "code",
   "execution_count": 4,
   "id": "a9968a3d-2c2b-4d55-b53f-b521814972d3",
   "metadata": {},
   "outputs": [
    {
     "name": "stdout",
     "output_type": "stream",
     "text": [
      "hej2\n",
      "Number of Rows: 10000000\n",
      "Number of Columns: 3\n",
      "in prepr DataFrame[bpm: string, loudness: string, year: string] True\n"
     ]
    },
    {
     "name": "stderr",
     "output_type": "stream",
     "text": [
      "                                                                                \r"
     ]
    },
    {
     "name": "stdout",
     "output_type": "stream",
     "text": [
      "Number of Rows: 1803109\n",
      "Number of Columns: 2\n"
     ]
    },
    {
     "name": "stderr",
     "output_type": "stream",
     "text": [
      "                                                                                \r"
     ]
    },
    {
     "name": "stdout",
     "output_type": "stream",
     "text": [
      "+------+----+------+\n",
      "|decade|mean| count|\n",
      "+------+----+------+\n",
      "|  1990|0.02|179306|\n",
      "|  1930|0.18|   292|\n",
      "|  1950|0.04|  6207|\n",
      "|  2020|0.02|466412|\n",
      "|  1960|0.03|  6907|\n",
      "|  1970|0.03| 15275|\n",
      "|  1980|0.02| 64648|\n",
      "|  2000|0.02|339083|\n",
      "|  2010|0.02|723663|\n",
      "|  1940|0.04|  1316|\n",
      "+------+----+------+\n",
      "\n"
     ]
    },
    {
     "name": "stderr",
     "output_type": "stream",
     "text": [
      "                                                                                \r"
     ]
    },
    {
     "data": {
      "image/png": "[encoded data removed]",
      "text/plain": [
       "<Figure size 640x480 with 1 Axes>"
      ]
     },
     "metadata": {},
     "output_type": "display_data"
    },
    {
     "name": "stderr",
     "output_type": "stream",
     "text": [
      "                                                                                \r"
     ]
    },
    {
     "data": {
      "image/png": "[encoded data removed]",
      "text/plain": [
       "<Figure size 640x480 with 1 Axes>"
      ]
     },
     "metadata": {},
     "output_type": "display_data"
    },
    {
     "name": "stderr",
     "output_type": "stream",
     "text": [
      "                                                                                \r"
     ]
    },
    {
     "name": "stdout",
     "output_type": "stream",
     "text": [
      "+--------------------+-------+\n",
      "|rounded_danceability|  count|\n",
      "+--------------------+-------+\n",
      "|                   0|1769279|\n",
      "|                   1|  33830|\n",
      "+--------------------+-------+\n",
      "\n"
     ]
    },
    {
     "name": "stderr",
     "output_type": "stream",
     "text": [
      "                                                                                \r"
     ]
    },
    {
     "data": {
      "image/png": "[encoded data removed]",
      "text/plain": [
       "<Figure size 640x480 with 1 Axes>"
      ]
     },
     "metadata": {},
     "output_type": "display_data"
    },
    {
     "name": "stdout",
     "output_type": "stream",
     "text": [
      "Time elapsed with 4 workers: 68.30691981315613\n"
     ]
    }
   ],
   "source": [
    "import matplotlib.pyplot as plt\n",
    "\n",
    "print(\"hej2\")\n",
    "\n",
    "num_rows = spark_df.count()\n",
    "\n",
    "# Get the number of columns\n",
    "num_columns = len(spark_df.columns)\n",
    "\n",
    "print(\"Number of Rows:\", num_rows)\n",
    "print(\"Number of Columns:\", num_columns)\n",
    "\n",
    "preprocessed_df = preprocess_data(spark_df, check_year=True)\n",
    "\n",
    "num_columns = len(preprocessed_df.columns)\n",
    "num_rows = preprocessed_df.count()\n",
    "\n",
    "print(\"Number of Rows:\", num_rows)\n",
    "print(\"Number of Columns:\", num_columns)\n",
    "\n",
    "grouped_decade = preprocessed_df.groupBy('decade')\\\n",
    "    .agg({'danceability': 'mean', '*': 'count'})\\\n",
    "    .withColumnRenamed('count(1)', 'count')\\\n",
    "    .withColumn('mean', round('avg(danceability)', 2))\\\n",
    "    .select('decade', 'mean', 'count')\n",
    "\n",
    "# Show the result\n",
    "grouped_decade.show()\n",
    "\n",
    "#grouped_decade.write.csv('../data/mean_danceability_by_decade.csv', header=True) #became a folder? look up later\n",
    "\n",
    "\n",
    "decades = grouped_decade.select('decade').rdd.flatMap(lambda x: x).collect()\n",
    "mean_danceability = grouped_decade.select('mean').rdd.flatMap(lambda x: x).collect()\n",
    "\n",
    "# Plotting\n",
    "plt.bar(decades, mean_danceability, color='#ffdfba', linewidth=2.5)\n",
    "plt.xticks(rotation=45)\n",
    "plt.ylabel('Mean Danceability')\n",
    "plt.xlabel('Decade')\n",
    "plt.title('Mean Danceability by Decade')\n",
    "plt.savefig('../images/mean_danceability_by_decade.png', bbox_inches='tight')\n",
    "plt.show()\n",
    "\n",
    "\n",
    "grouped_decade_median = preprocessed_df.groupBy('decade')\\\n",
    "    .agg({'danceability': 'median'})\\\n",
    "    .withColumnRenamed('median(danceability)', 'median_danceability')\\\n",
    "    .select('decade', 'median_danceability')\\\n",
    "    .withColumn('median_danceability', round('median_danceability', 2))\n",
    "\n",
    "decades = grouped_decade_median.select('decade').rdd.flatMap(lambda x: x).collect()\n",
    "median_danceability = grouped_decade_median.select('median_danceability').rdd.flatMap(lambda x: x).collect()\n",
    "\n",
    "# Plotting\n",
    "plt.bar(decades, median_danceability, color='#ffb3ba')\n",
    "plt.xticks(rotation=45)\n",
    "plt.ylabel('Median Danceability')\n",
    "plt.xlabel('Decade')\n",
    "plt.title('Median Danceability by Decade')\n",
    "plt.savefig('../images/median_danceability_by_decade.png', bbox_inches='tight')\n",
    "plt.show()\n",
    "\n",
    "\n",
    "# Round danceability column to two decimal places\n",
    "preprocessed_df_rounded = preprocessed_df.withColumn('rounded_danceability', round('danceability', 2))\n",
    "\n",
    "# Group by rounded danceability scores and count the number of songs for each score\n",
    "danceability_score_count = preprocessed_df_rounded.groupBy('rounded_danceability').count().orderBy('rounded_danceability')\n",
    "\n",
    "# Show the result\n",
    "danceability_score_count.show()\n",
    "\n",
    "# Collect data to driver node\n",
    "scores = danceability_score_count.select('rounded_danceability').rdd.flatMap(lambda x: x).collect()\n",
    "counts = danceability_score_count.select('count').rdd.flatMap(lambda x: x).collect()\n",
    "\n",
    "# Plotting\n",
    "plt.bar(scores, counts, color='#bae1ff') #too thick!! Change later\n",
    "plt.xticks(rotation=0)\n",
    "plt.ylabel('Count')\n",
    "plt.xlabel('Danceability Score')\n",
    "plt.title('Count of Songs by Danceability')\n",
    "plt.savefig('../images/count_of_songs_by_danceability.png', bbox_inches='tight')\n",
    "plt.show()\n",
    "end = time.time()\n",
    "print(f\"Time elapsed with {n_workers} workers: {end - start}\")\n",
    " \n",
    "spark_session.stop()"
   ]
  },
  {
   "cell_type": "code",
   "execution_count": null,
   "id": "5adbdf51-428e-4b58-99e3-c85bf2261b72",
   "metadata": {},
   "outputs": [],
   "source": []
  }
 ],
 "metadata": {
  "kernelspec": {
   "display_name": "Python 3 (ipykernel)",
   "language": "python",
   "name": "python3"
  },
  "language_info": {
   "codemirror_mode": {
    "name": "ipython",
    "version": 3
   },
   "file_extension": ".py",
   "mimetype": "text/x-python",
   "name": "python",
   "nbconvert_exporter": "python",
   "pygments_lexer": "ipython3",
   "version": "3.8.10"
  }
 },
 "nbformat": 4,
 "nbformat_minor": 5
}
