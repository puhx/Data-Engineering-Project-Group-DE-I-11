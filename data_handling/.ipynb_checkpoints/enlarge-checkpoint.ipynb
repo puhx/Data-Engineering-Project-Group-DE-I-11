{
 "cells": [
  {
   "cell_type": "markdown",
   "metadata": {},
   "source": [
    "### imports"
   ]
  },
  {
   "cell_type": "code",
   "execution_count": 3,
   "metadata": {},
   "outputs": [],
   "source": [
    "import h5py\n",
    "import matplotlib.pyplot as plt\n",
    "import pandas as pd\n",
    "import numpy as np"
   ]
  },
  {
   "cell_type": "markdown",
   "metadata": {},
   "source": [
    "### retrieving the data to increase in size"
   ]
  },
  {
   "cell_type": "code",
   "execution_count": 4,
   "metadata": {},
   "outputs": [
    {
     "name": "stdout",
     "output_type": "stream",
     "text": [
      "current size of the dataset (10000, 4)\n",
      "       bpm  loudness  year             title\n",
      "0   92.198   -11.197     0  I Didn't Mean To\n",
      "1  121.274    -9.843  1969         Soul Deep\n",
      "2  100.070    -9.689     0   Amor De Cabaret\n",
      "3  119.293    -9.013  1982   Something Girls\n",
      "4  129.738    -4.501  2007    Face the Ashes\n"
     ]
    }
   ],
   "source": [
    "df = pd.read_hdf('../data/aggregated_song_features.h5', key='data')\n",
    "print('current size of the dataset', df.shape)\n",
    "print(df.head())\n",
    "\n",
    "# drop title since it is not a feature that is useful for the scaling tests\n",
    "df = df.drop(columns=['title'])"
   ]
  },
  {
   "cell_type": "code",
   "execution_count": 5,
   "metadata": {},
   "outputs": [],
   "source": [
    "def randomize_loudness(df):\n",
    "    # for all songs with bpm > 0, randomize it to a number between -40 and -1\n",
    "    df['loudness'] = df['loudness'].apply(lambda x: np.random.randint(-40, 0) if x > 0 else x)\n",
    "    return df\n",
    "\n",
    "def make_bpm_less_than_300(df):\n",
    "    # for all songs with bpm > 300, randomize it to a number between 100 and 300\n",
    "    df['bpm'] = df['bpm'].apply(lambda x: np.random.randint(100, 300) if x > 300 else x)\n",
    "    return df\n",
    "\n",
    "#double the size of the dataset without creating duplicates\n",
    "df_double = pd.concat([df +1, df +2])\n",
    "# keep the year column as 0 for the new songs\n",
    "df_double['year'] = df_double['year'].replace(1, 0)\n",
    "df_double['year'] = df_double['year'].replace(2, 0)\n",
    "\n",
    "# save the dataset to a csv file\n",
    "df_double.to_csv('../data/aggregated_song_features_double.csv', index=False)\n",
    "\n",
    "# quadruple size\n",
    "df_quadruple = pd.concat([df_double +3, df_double +4])\n",
    "df_quadruple['year'] = df_quadruple['year'].replace(3, 0)\n",
    "df_quadruple['year'] = df_quadruple['year'].replace(4, 0)\n",
    "\n",
    "df_quadruple.to_csv('../data/aggregated_song_features_quadruple.csv', index=False)\n",
    "\n",
    "\n",
    "# 10 times the size\n",
    "df_10 = pd.concat([df_double +5, df_double +6, df_double +7, df_double +8, df_double +9])\n",
    "df_10['year'] = df_10['year'].replace(5, 0)\n",
    "df_10['year'] = df_10['year'].replace(6, 0)\n",
    "df_10['year'] = df_10['year'].replace(7, 0)\n",
    "df_10['year'] = df_10['year'].replace(8, 0)\n",
    "df_10['year'] = df_10['year'].replace(9, 0)\n",
    "\n",
    "df_10 = randomize_loudness(df_10)\n",
    "\n",
    "df_10.to_csv('../data/aggregated_song_features_10x.csv', index=False)\n",
    "\n",
    "# 100 times the size\n",
    "df_100 = pd.concat([df_10, df_10+1, df_10+2, df_10+3, df_10+4, df_10+5, df_10+6, df_10+7, df_10+8, df_10+9])\n",
    "df_100['year'] = df_100['year'].replace(1, 0)\n",
    "df_100['year'] = df_100['year'].replace(2, 0)\n",
    "df_100['year'] = df_100['year'].replace(3, 0)\n",
    "df_100['year'] = df_100['year'].replace(4, 0)\n",
    "df_100['year'] = df_100['year'].replace(5, 0)\n",
    "df_100['year'] = df_100['year'].replace(6, 0)\n",
    "df_100['year'] = df_100['year'].replace(7, 0)\n",
    "df_100['year'] = df_100['year'].replace(8, 0)\n",
    "df_100['year'] = df_100['year'].replace(9, 0)\n",
    "\n",
    "df_100 = randomize_loudness(df_100)\n",
    "df_100 = make_bpm_less_than_300(df_100)\n",
    "\n",
    "\n",
    "df_100.to_csv('../data/aggregated_song_features_100x.csv', index=False)\n",
    "\n",
    "#1000x the size of df\n",
    "\n",
    "df_1000 = pd.concat([df_100, df_100+11, df_100+12, df_100+13, df_100+14, df_100+15, df_100+16, df_100+17, df_100+18, df_100+19])\n",
    "df_1000['year'] = df_1000['year'].replace(11, 0)\n",
    "df_1000['year'] = df_1000['year'].replace(12, 0)\n",
    "df_1000['year'] = df_1000['year'].replace(13, 0)\n",
    "df_1000['year'] = df_1000['year'].replace(14, 0)\n",
    "df_1000['year'] = df_1000['year'].replace(15, 0)\n",
    "df_1000['year'] = df_1000['year'].replace(16, 0)\n",
    "df_1000['year'] = df_1000['year'].replace(17, 0)\n",
    "df_1000['year'] = df_1000['year'].replace(18, 0)\n",
    "df_1000['year'] = df_1000['year'].replace(19, 0)\n",
    "\n",
    "df_1000 = randomize_loudness(df_1000)\n",
    "df_1000 = make_bpm_less_than_300(df_1000)\n",
    "\n",
    "df_1000.to_csv('../data/aggregated_song_features_1000x.csv', index=False)\n",
    "\n",
    "# 2000x the size of df\n",
    "\n",
    "df_2000 = pd.concat([df_1000 +21, df_1000+22])\n",
    "df_2000['year'] = df_2000['year'].replace(21, 0)\n",
    "df_2000['year'] = df_2000['year'].replace(22, 0)\n",
    "\n",
    "df_2000 = randomize_loudness(df_2000)\n",
    "df_2000 = make_bpm_less_than_300(df_2000)\n",
    "\n",
    "df_2000.to_csv('../data/aggregated_song_features_2000x.csv', index=False)\n",
    "\n",
    "\n",
    "# 4000x the size of df\n",
    "\n",
    "df_4000 = pd.concat([df_2000 +23, df_2000+24])\n",
    "df_4000['year'] = df_4000['year'].replace(23, 0)\n",
    "df_4000['year'] = df_4000['year'].replace(24, 0)\n",
    "\n",
    "df_4000 = randomize_loudness(df_4000)\n",
    "df_4000 = make_bpm_less_than_300(df_4000)\n",
    "\n",
    "df_4000.to_csv('../data/aggregated_song_features_4000x.csv', index=False)"
   ]
  }
 ],
 "metadata": {
  "kernelspec": {
   "display_name": "Python 3",
   "language": "python",
   "name": "python3"
  },
  "language_info": {
   "codemirror_mode": {
    "name": "ipython",
    "version": 3
   },
   "file_extension": ".py",
   "mimetype": "text/x-python",
   "name": "python",
   "nbconvert_exporter": "python",
   "pygments_lexer": "ipython3",
   "version": "3.10.11"
  }
 },
 "nbformat": 4,
 "nbformat_minor": 2
}
