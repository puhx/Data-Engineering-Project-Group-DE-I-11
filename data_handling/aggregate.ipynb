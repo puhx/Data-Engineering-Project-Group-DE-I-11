{
 "cells": [
  {
   "cell_type": "code",
   "execution_count": 1,
   "metadata": {},
   "outputs": [],
   "source": [
    "import h5py\n",
    "import pandas as pd\n",
    "\n",
    "# Function to extract features from a single HDF5 file\n",
    "def extract_features(file_path):\n",
    "    features = {}\n",
    "    with h5py.File(file_path, 'r') as f:\n",
    "        # Extract relevant features\n",
    "        features['bpm'] = f['analysis']['songs']['tempo'][0]\n",
    "        features['loudness'] = f['analysis']['songs']['loudness'][0]\n",
    "        features['year'] = f['musicbrainz']['songs']['year'][0]\n",
    "        features['title'] = f['metadata']['songs']['title'][0] # can be used for title analysis\n",
    "        f.close()\n",
    "    return features"
   ]
  },
  {
   "cell_type": "code",
   "execution_count": 2,
   "metadata": {},
   "outputs": [
    {
     "name": "stdout",
     "output_type": "stream",
     "text": [
      "          bpm  loudness  year                             title\n",
      "0      92.198   -11.197     0                  I Didn't Mean To\n",
      "1     121.274    -9.843  1969                         Soul Deep\n",
      "2     100.070    -9.689     0                   Amor De Cabaret\n",
      "3     119.293    -9.013  1982                   Something Girls\n",
      "4     129.738    -4.501  2007                    Face the Ashes\n",
      "...       ...       ...   ...                               ...\n",
      "9995  140.185    -8.087  1998                    The Hanged Man\n",
      "9996   77.072   -14.517  1998  The Wonderful World Of The Young\n",
      "9997  118.123   -12.087     0                   Sentimental Man\n",
      "9998  137.663   -12.574     0                 Zydeco In D-Minor\n",
      "9999  150.575    -5.324  2005                    Shattered Life\n",
      "\n",
      "[10000 rows x 4 columns]\n"
     ]
    }
   ],
   "source": [
    "import os\n",
    "\n",
    "# Directory containing the Million Song Subset dataset, not included in the git repository\n",
    "dataset_dir = '../MillionSongSubset/' \n",
    "song_features = []\n",
    "\n",
    "# recursively iterating over HDF5 files in a directory\n",
    "def iterate_hdf5_files(directory):\n",
    "    for root, dirs, files in os.walk(directory):\n",
    "        for file in files:\n",
    "            if file.endswith('.h5'):  # getting all of the HDF5 files\n",
    "                file_path = os.path.join(root, file)\n",
    "                yield file_path\n",
    "\n",
    "\n",
    "# iterate over all of the files in the directory\n",
    "for hdf5_file in iterate_hdf5_files(dataset_dir):\n",
    "    # Extract features from the file and adding them to the list\n",
    "    features = extract_features(hdf5_file)\n",
    "    song_features.append(features)\n",
    "      \n",
    "# Converting the lists to a DataFrame\n",
    "df = pd.DataFrame(song_features)\n",
    "\n",
    "#convert title from bytes to string\n",
    "df['title'] = df['title'].astype(str)\n",
    "\n",
    "# Creating hdf5 and csv files\n",
    "df.to_hdf('../data/aggregated_song_features.h5', key='data', mode='w', format='table', data_columns=True)\n",
    "df.to_csv('../data/aggregated_song_features.csv', index=False)\n",
    "\n",
    "#Print the DataFrame to verify the data\n",
    "print(df)"
   ]
  },
  {
   "cell_type": "code",
   "execution_count": 3,
   "metadata": {},
   "outputs": [
    {
     "name": "stdout",
     "output_type": "stream",
     "text": [
      "<KeysViewHDF5 ['data']>\n"
     ]
    }
   ],
   "source": [
    "# Open the created HDF5 file\n",
    "f = h5py.File('../data/aggregated_song_features.h5', 'r')\n",
    "\n",
    "# Print the keys to make sure the data is there\n",
    "print(f.keys())\n",
    "f.close()"
   ]
  }
 ],
 "metadata": {
  "kernelspec": {
   "display_name": "Python 3",
   "language": "python",
   "name": "python3"
  },
  "language_info": {
   "codemirror_mode": {
    "name": "ipython",
    "version": 3
   },
   "file_extension": ".py",
   "mimetype": "text/x-python",
   "name": "python",
   "nbconvert_exporter": "python",
   "pygments_lexer": "ipython3",
   "version": "3.10.11"
  }
 },
 "nbformat": 4,
 "nbformat_minor": 2
}
