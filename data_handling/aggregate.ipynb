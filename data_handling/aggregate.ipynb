{
 "cells": [
  {
   "cell_type": "code",
   "execution_count": 3,
   "metadata": {},
   "outputs": [],
   "source": [
    "import h5py\n",
    "import pandas as pd\n",
    "\n",
    "# Function to extract features from a single HDF5 file\n",
    "def extract_features(file_path):\n",
    "    features = {}\n",
    "    with h5py.File(file_path, 'r') as f:\n",
    "        # Extract relevant features\n",
    "        features['bpm'] = f['analysis']['songs']['tempo'][0]\n",
    "        features['loudness'] = f['analysis']['songs']['loudness'][0]\n",
    "        features['year'] = f['musicbrainz']['songs']['year'][0]\n",
    "        f.close()\n",
    "    return features\n"
   ]
  },
  {
   "cell_type": "code",
   "execution_count": 4,
   "metadata": {},
   "outputs": [
    {
     "name": "stdout",
     "output_type": "stream",
     "text": [
      "          bpm  loudness  year\n",
      "0      92.198   -11.197     0\n",
      "1     121.274    -9.843  1969\n",
      "2     100.070    -9.689     0\n",
      "3     119.293    -9.013  1982\n",
      "4     129.738    -4.501  2007\n",
      "...       ...       ...   ...\n",
      "9995  140.185    -8.087  1998\n",
      "9996   77.072   -14.517  1998\n",
      "9997  118.123   -12.087     0\n",
      "9998  137.663   -12.574     0\n",
      "9999  150.575    -5.324  2005\n",
      "\n",
      "[10000 rows x 3 columns]\n"
     ]
    }
   ],
   "source": [
    "import os\n",
    "\n",
    "# Directory containing the Million Song Subset dataset, not included in the git repository\n",
    "dataset_dir = '../MillionSongSubset/' \n",
    "song_features = []\n",
    "\n",
    "# recursively iterating over HDF5 files in a directory\n",
    "def iterate_hdf5_files(directory):\n",
    "    for root, dirs, files in os.walk(directory):\n",
    "        for file in files:\n",
    "            if file.endswith('.h5'):  # getting all of the HDF5 files\n",
    "                file_path = os.path.join(root, file)\n",
    "                yield file_path\n",
    "\n",
    "\n",
    "# iterate over all of the files in the directory\n",
    "for hdf5_file in iterate_hdf5_files(dataset_dir):\n",
    "    # Extract features from the file and adding them to the list\n",
    "    features = extract_features(hdf5_file)\n",
    "    song_features.append(features)\n",
    "      \n",
    "# Converting the list to a DataFrame\n",
    "df = pd.DataFrame(song_features)\n",
    "\n",
    "# Write the DataFrame to a new HDF5 file\n",
    "df.to_hdf('../data/aggregated_song_features.h5', key='data', mode='w', format='table', data_columns=True)\n",
    "\n",
    "#Print the DataFrame\n",
    "print(df)"
   ]
  },
  {
   "cell_type": "code",
   "execution_count": 5,
   "metadata": {},
   "outputs": [
    {
     "name": "stdout",
     "output_type": "stream",
     "text": [
      "<KeysViewHDF5 ['data']>\n"
     ]
    }
   ],
   "source": [
    "# Open the original HDF5 file\n",
    "f = h5py.File('../data/aggregated_song_features.h5', 'r')\n",
    "\n",
    "# Print the keys to identify the structure of the file\n",
    "print(f.keys())\n",
    "f.close()"
   ]
  }
 ],
 "metadata": {
  "kernelspec": {
   "display_name": "Python 3",
   "language": "python",
   "name": "python3"
  },
  "language_info": {
   "codemirror_mode": {
    "name": "ipython",
    "version": 3
   },
   "file_extension": ".py",
   "mimetype": "text/x-python",
   "name": "python",
   "nbconvert_exporter": "python",
   "pygments_lexer": "ipython3",
   "version": "3.10.11"
  }
 },
 "nbformat": 4,
 "nbformat_minor": 2
}
